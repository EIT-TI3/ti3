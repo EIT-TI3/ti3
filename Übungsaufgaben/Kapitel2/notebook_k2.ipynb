{
 "cells": [
  {
   "cell_type": "code",
   "execution_count": 1,
   "metadata": {
    "collapsed": true,
    "pycharm": {
     "name": "#%%\n"
    }
   },
   "outputs": [
    {
     "name": "stdout",
     "output_type": "stream",
     "text": [
      "['M', 'n', ' ', 'm', 's', 's', ' ', 'n', 'c', 'h', 't', ' ', 'l', 'l', 's', ' ', 'w', 's', 's', 'n']\n"
     ]
    }
   ],
   "source": [
    "\n",
    "satz = \"Man muss nicht alles wissen\"\n",
    "l1 = [satz[i] for i in range(0, len(satz))]\n",
    "vowels = ['a', 'e', 'i', 'o', 'u']\n",
    "l2 = [i for i in l1 if i.lower() not in vowels]\n",
    "print(l2)"
   ]
  },
  {
   "cell_type": "code",
   "execution_count": 2,
   "metadata": {
    "pycharm": {
     "name": "#%%\n"
    }
   },
   "outputs": [
    {
     "name": "stdout",
     "output_type": "stream",
     "text": [
      "Gefundene Primzahlen: \n",
      " [2, 3, 5, 7, 11, 13, 17, 19, 23, 29, 31, 37, 41, 43, 47, 53, 59, 61, 67, 71, 73, 79, 83, 89, 97]\n"
     ]
    }
   ],
   "source": [
    "# S. 137\n",
    "\n",
    "def sieb_des_eratosthenes(n):\n",
    "    l, p = list(range(2, n)), []\n",
    "\n",
    "    while l[0] ** 2 < n:\n",
    "        p.append(l[0])\n",
    "        for i in [n for n in l if n % l[0] == 0]:\n",
    "            l.remove(i)\n",
    "    p += l\n",
    "    print(f'Gefundene Primzahlen: \\n {p}')\n",
    "\n",
    "sieb_des_eratosthenes(100)"
   ]
  },
  {
   "cell_type": "code",
   "execution_count": 3,
   "metadata": {
    "pycharm": {
     "name": "#%%\n"
    }
   },
   "outputs": [
    {
     "name": "stdout",
     "output_type": "stream",
     "text": [
      "[['7', 'Karo'], ['8', 'Karo'], ['9', 'Karo'], ['Bube', 'Karo'], ['Dame', 'Karo'], ['Koenig', 'Karo'], ['10', 'Karo'], ['Ass', 'Karo'], ['7', 'Herz'], ['8', 'Herz'], ['9', 'Herz'], ['Bube', 'Herz'], ['Dame', 'Herz'], ['Koenig', 'Herz'], ['10', 'Herz'], ['Ass', 'Herz'], ['7', 'Pik'], ['8', 'Pik'], ['9', 'Pik'], ['Bube', 'Pik'], ['Dame', 'Pik'], ['Koenig', 'Pik'], ['10', 'Pik'], ['Ass', 'Pik'], ['7', 'Kreuz'], ['8', 'Kreuz'], ['9', 'Kreuz'], ['Bube', 'Kreuz'], ['Dame', 'Kreuz'], ['Koenig', 'Kreuz'], ['10', 'Kreuz'], ['Ass', 'Kreuz']]\n"
     ]
    }
   ],
   "source": [
    "# S.138\n",
    "\n",
    "def cards():\n",
    "    farben = ['Karo', 'Herz', 'Pik', 'Kreuz']\n",
    "    symbole = ['7', '8', '9', 'Bube', 'Dame', 'Koenig', '10', 'Ass']\n",
    "    return [[i, f] for f in farben for i in symbole]\n",
    "\n",
    "print(cards())"
   ]
  },
  {
   "cell_type": "code",
   "execution_count": 4,
   "metadata": {
    "pycharm": {
     "name": "#%%\n"
    }
   },
   "outputs": [
    {
     "name": "stdout",
     "output_type": "stream",
     "text": [
      "[('Lisa', 'Sigi'), ('Maria', 'Hans'), ('Anne', 'Leo'), ('Else', 'Tim')]\n"
     ]
    }
   ],
   "source": [
    "# S.138\n",
    "\n",
    "def self_zip():\n",
    "    damen = ['Maria', 'Anne', 'Else', 'Lisa']\n",
    "    herren = ['Hans', 'Leo', 'Tim', 'Sigi']\n",
    "    erg_zip = list(zip(damen, herren))\n",
    "    return [(damen[i - 1], herren[i - 1]) for i in range(0, len(damen))]\n",
    "\n",
    "print(self_zip())"
   ]
  },
  {
   "cell_type": "code",
   "execution_count": 5,
   "metadata": {
    "pycharm": {
     "name": "#%%\n"
    }
   },
   "outputs": [
    {
     "name": "stdout",
     "output_type": "stream",
     "text": [
      "[6, 28]\n"
     ]
    }
   ],
   "source": [
    "# S.138\n",
    "\n",
    "def perfect_numbers(n):\n",
    "    list = [i for i in range(1, n + 1) if\n",
    "            i == sum([d for d in range(1, n + 1) if (i % d == 0) and (i is not d)])]\n",
    "    print(list)\n",
    "\n",
    "perfect_numbers(1000)"
   ]
  },
  {
   "cell_type": "code",
   "execution_count": 6,
   "metadata": {
    "pycharm": {
     "name": "#%%\n"
    }
   },
   "outputs": [
    {
     "name": "stdout",
     "output_type": "stream",
     "text": [
      "10 + 9*x^1 + 5*x^2 + 8*x^3 - 4*x^4 + 0.5*x^5\n"
     ]
    }
   ],
   "source": [
    "# S. 143-144\n",
    "\n",
    "# a)\n",
    "\n",
    "def pretty_print(p):\n",
    "    output = ''\n",
    "    for idx, coefficient in enumerate(p):\n",
    "        if idx == 0:\n",
    "            output += str(p[0])\n",
    "        else:\n",
    "            output += f' {\"-\" if coefficient < 0 else \"+\"} {abs(coefficient)}*x^{idx}'\n",
    "    print(output)\n",
    "\n",
    "pretty_print((10, 9, 5, 8, -4, 1/2))"
   ]
  },
  {
   "cell_type": "code",
   "execution_count": 7,
   "metadata": {
    "pycharm": {
     "name": "#%%\n"
    }
   },
   "outputs": [
    {
     "name": "stdout",
     "output_type": "stream",
     "text": [
      "3 + 1*x^1 + 9*x^2 + 6.5*x^3 + 11*x^4\n"
     ]
    }
   ],
   "source": [
    "# b)\n",
    "\n",
    "def add(p1, p2):\n",
    "    return tuple([sum(element) for element in zip(p1, p2)])\n",
    "\n",
    "p1 = (9, 1, 3, 6, 8)\n",
    "p2 = (-6, 0, 6, 1/2, 3, 5)\n",
    "\n",
    "p3 = add(p1, p2)\n",
    "pretty_print(p3)"
   ]
  },
  {
   "cell_type": "code",
   "execution_count": 8,
   "metadata": {
    "pycharm": {
     "name": "#%%\n"
    }
   },
   "outputs": [
    {
     "name": "stdout",
     "output_type": "stream",
     "text": [
      "-54 + 0*x^1 + 18*x^2 + 3.0*x^3 + 24*x^4\n"
     ]
    }
   ],
   "source": [
    "# c)\n",
    "\n",
    "def mul(p1, p2):\n",
    "    return tuple([element[0] * element[1] for element in zip(p1, p2)])\n",
    "\n",
    "p1 = (9, 1, 3, 6, 8)\n",
    "p2 = (-6, 0, 6, 1/2, 3, 5)\n",
    "\n",
    "p3 = mul(p1, p2)\n",
    "pretty_print(p3)"
   ]
  },
  {
   "cell_type": "code",
   "execution_count": 9,
   "metadata": {
    "pycharm": {
     "name": "#%%\n"
    }
   },
   "outputs": [
    {
     "name": "stdout",
     "output_type": "stream",
     "text": [
      "0 + 1*x^1 + 6*x^2 + 18*x^3 + 32*x^4\n",
      "0 + 0*x^1 + 12*x^2 + 1.5*x^3 + 12*x^4 + 25*x^5\n"
     ]
    }
   ],
   "source": [
    "# d)\n",
    "\n",
    "def diff(p):\n",
    "    return tuple([index * number for index, number in enumerate(p)])\n",
    "\n",
    "p1 = (9, 1, 3, 6, 8)\n",
    "p2 = (-6, 0, 6, 1/2, 3, 5)\n",
    "\n",
    "p3 = diff(p1)\n",
    "pretty_print(p3)\n",
    "\n",
    "p4 = diff(p2)\n",
    "pretty_print(p4)"
   ]
  },
  {
   "cell_type": "code",
   "execution_count": 10,
   "metadata": {
    "pycharm": {
     "name": "#%%\n"
    }
   },
   "outputs": [
    {
     "name": "stdout",
     "output_type": "stream",
     "text": [
      "9 + 9.0*x^1 + 0.5*x^2 + 1.0*x^3 + 1.5*x^4 + 1.6*x^5\n",
      "-6 - 6.0*x^1 + 0.0*x^2 + 2.0*x^3 + 0.125*x^4 + 0.6*x^5 + 0.8333333333333334*x^6\n"
     ]
    }
   ],
   "source": [
    "# e)\n",
    "\n",
    "def integrate(p):\n",
    "    return tuple([p[0]] + [number / (index + 1) for index, number in enumerate(p)])\n",
    "\n",
    "p1 = (9, 1, 3, 6, 8)\n",
    "p2 = (-6, 0, 6, 1/2, 3, 5)\n",
    "\n",
    "p3 = integrate(p1)\n",
    "pretty_print(p3)\n",
    "\n",
    "p4 = integrate(p2)\n",
    "pretty_print(p4)"
   ]
  },
  {
   "cell_type": "code",
   "execution_count": 11,
   "metadata": {
    "pycharm": {
     "name": "#%%\n"
    }
   },
   "outputs": [
    {
     "name": "stdout",
     "output_type": "stream",
     "text": [
      "Hlzeitma\n",
      "Lloha Hlzeitma \n"
     ]
    }
   ],
   "source": [
    "# S. 150\n",
    "\n",
    "# a)\n",
    "\n",
    "def to_pig_latin(word):\n",
    "    if ord(word[0]) >= 90:\n",
    "        return str(word[2::] + word[0:2])\n",
    "    else:\n",
    "        return str(word[2].upper() + word[3::] + word[0:2].lower())\n",
    "\n",
    "# b)\n",
    "\n",
    "def from_pig_latin(word):\n",
    "    if ord(word[0]) >= 90:\n",
    "        return str(word[-1:-2] + word[2::])\n",
    "    else:\n",
    "        return str(word[-2].upper() + word[-1] + word[:-2].lower())\n",
    "\n",
    "# c)\n",
    "\n",
    "def from_pig_zeile(zeile):\n",
    "    output = ''\n",
    "    for word in [to_pig_latin(word) for word in zeile.split()]:\n",
    "        output += word + ' '\n",
    "    return output\n",
    "\n",
    "\n",
    "word = 'Mahlzeit'\n",
    "pig_word = to_pig_latin(word)\n",
    "print(pig_word)\n",
    "line = 'Hallo Mahlzeit'\n",
    "pig_line = from_pig_zeile(line)\n",
    "print(pig_line)"
   ]
  },
  {
   "cell_type": "code",
   "execution_count": 12,
   "metadata": {
    "pycharm": {
     "name": "#%%\n"
    }
   },
   "outputs": [],
   "source": [
    "# S. 151\n",
    "\n",
    "# d)\n",
    "\n",
    "def from_pig_latin_zeile(zeile):\n",
    "    output = ''\n",
    "    for word in [from_pig_zeile(word) for word in zeile.split()]:\n",
    "        output += word + ' '\n",
    "    return output\n",
    "\n",
    "# e)\n",
    "\n",
    "def to_pig_latin_file(file_name='german_latin.txt',\n",
    "                      file_name_pig='pig_latin.txt'):\n",
    "    try:\n",
    "        with open(file_name, 'r') as file:\n",
    "            text = file.readlines()\n",
    "    except FileNotFoundError:\n",
    "        print('Datein konnte nicht gefunden werden!')\n",
    "\n",
    "    new_text = ''\n",
    "    for lines in text:\n",
    "        new_text += f'{from_pig_zeile(lines)}\\n'\n",
    "    try:\n",
    "        with open(file_name_pig, 'w') as new_file:\n",
    "            new_file.write(str(new_text))\n",
    "    except Exception as e:\n",
    "        print(e)\n",
    "\n",
    "to_pig_latin_file()"
   ]
  },
  {
   "cell_type": "code",
   "execution_count": 13,
   "metadata": {
    "pycharm": {
     "name": "#%%\n"
    }
   },
   "outputs": [
    {
     "name": "stdout",
     "output_type": "stream",
     "text": [
      "H :   2   A :   2   L :   3   O :   1   \n",
      "M :   1   Z :   1   E :   1   I :   1   \n",
      "T :   1   \n"
     ]
    }
   ],
   "source": [
    "# S.166\n",
    "\n",
    "def haeufogkeit(zeile):\n",
    "    chars = dict()\n",
    "    output = ''\n",
    "    for char in [char.upper() for char in zeile]:\n",
    "        if char in chars:\n",
    "            chars[char] = chars[char] + 1\n",
    "        elif char.isalpha():\n",
    "            chars[char] = 1\n",
    "\n",
    "    idx = 0\n",
    "    for letter, number in chars.items():\n",
    "        idx += 1\n",
    "        output += f'{letter} :   {number}   '\n",
    "        if idx % 4 == 0:\n",
    "            output += '\\n'\n",
    "    return output\n",
    "\n",
    "print(haeufogkeit('Hallo Mahlzeit'))"
   ]
  },
  {
   "cell_type": "code",
   "execution_count": 14,
   "metadata": {
    "pycharm": {
     "name": "#%%\n"
    }
   },
   "outputs": [
    {
     "name": "stdout",
     "output_type": "stream",
     "text": [
      "unterschiedliche Wörter: 23978, Wörter total: 163566, Quotient: 0.146595258183241\n"
     ]
    }
   ],
   "source": [
    "# S. 167\n",
    "\n",
    "def wortschatz(file_name='win1.txt'):\n",
    "    unic_words = dict()\n",
    "    all_words = 0\n",
    "\n",
    "    try:\n",
    "        file = open(file_name, 'r', errors='ignore')\n",
    "    except Exception as e:\n",
    "        print(e)\n",
    "        return\n",
    "\n",
    "    text = file.readlines()\n",
    "    for lines in text:\n",
    "        for word in lines.split(' '):\n",
    "            all_words += 1\n",
    "            if word in unic_words:\n",
    "                unic_words[word] += 1\n",
    "            else:\n",
    "                unic_words[word] = 1\n",
    "    quotient = len(unic_words) / all_words\n",
    "    print(f'unterschiedliche Wörter: {len(unic_words)}, Wörter total: {all_words}, Quotient: {quotient}')\n",
    "\n",
    "wortschatz()"
   ]
  },
  {
   "cell_type": "code",
   "execution_count": 15,
   "metadata": {
    "pycharm": {
     "name": "#%%\n"
    }
   },
   "outputs": [
    {
     "name": "stdout",
     "output_type": "stream",
     "text": [
      "Getraenk    Laden 0     Laden1     Summe\n",
      "Sprudel   8580.0   7201.25   8900.0   24681.25\n",
      "Bier   10225.25   9025.0   9505.0   28755.25\n",
      "Cola   6700.1   5012.45   6011.0   17723.55\n",
      "Limo   9285.15   8276.1   8705.0   26266.25\n",
      "IcedTea   7901.25   4267.0   7056.5   19224.75\n",
      "Summe   42691.75   33781.8   40177.5   116651.05\n",
      "\n"
     ]
    }
   ],
   "source": [
    "# S.170 - 171\n",
    "\n",
    "import csv\n",
    "\n",
    "def read_csv():\n",
    "    umsatz_dict = dict()\n",
    "\n",
    "    with open('getreanke.csv', newline='') as csvfile:\n",
    "        reader = csv.reader(csvfile)\n",
    "        for row in reader:\n",
    "            values = row[0].split(';')\n",
    "            umsatz_dict[values[0]] = [float(e) for e in values[1:]]\n",
    "    return umsatz_dict\n",
    "\n",
    "\n",
    "def berechne_summen_ueber_laeden(umsatz_dict):\n",
    "    for getraenk in umsatz_dict:\n",
    "        umsatz_dict[getraenk].append(sum(umsatz_dict[getraenk]))\n",
    "    return umsatz_dict\n",
    "\n",
    "\n",
    "def berechne_getraenke_summmen(umsatz_dict):\n",
    "    umsatz_dict['Summe'] = []\n",
    "    for i in range(4):\n",
    "        summe = 0\n",
    "        for getraenk in umsatz_dict:\n",
    "            if getraenk != 'Summe':\n",
    "                summe += umsatz_dict[getraenk][i]\n",
    "        umsatz_dict['Summe'].append(summe)\n",
    "\n",
    "\n",
    "def print_umsatz(umsatz_dict):\n",
    "    output = 'Getraenk    Laden 0     Laden1     Summe\\n'\n",
    "    for getraenk in umsatz_dict:\n",
    "        output += f'{getraenk}'\n",
    "        for i in range(4):\n",
    "            output += f'   {umsatz_dict[getraenk][i]}'\n",
    "        output += '\\n'\n",
    "    print(output)\n",
    "\n",
    "\n",
    "def get_min_umsatz(umsatz_dict):\n",
    "    pass\n",
    "\n",
    "umsatz_dict = read_csv()\n",
    "berechne_summen_ueber_laeden(umsatz_dict)\n",
    "berechne_getraenke_summmen(umsatz_dict)\n",
    "print_umsatz(umsatz_dict)\n"
   ]
  },
  {
   "cell_type": "code",
   "execution_count": 16,
   "metadata": {
    "pycharm": {
     "name": "#%%\n"
    }
   },
   "outputs": [
    {
     "name": "stdout",
     "output_type": "stream",
     "text": [
      "type      :  2,  10,\n",
      "list      :  2,  3,  43,\n",
      "set      :  3,  66,  97,\n",
      "id      :  2,  22,  97,\n",
      "\n"
     ]
    }
   ],
   "source": [
    "# S. 175\n",
    "\n",
    "from itertools import chain\n",
    "\n",
    "def read_data(file_name='stichworte.txt'):\n",
    "    try:\n",
    "        with open(file_name, 'r') as file:\n",
    "            text = file.readlines()\n",
    "    except Exception as e:\n",
    "        print(e)\n",
    "\n",
    "    stichwoerter = dict()\n",
    "    for line in text:\n",
    "        key = line.split(':')[0]\n",
    "        value = line[:-1].split(':')[1]\n",
    "        if key not in stichwoerter.keys():\n",
    "            stichwoerter[key] = [value]\n",
    "        elif value not in stichwoerter[key]:\n",
    "            stichwoerter[key].append(value)\n",
    "    return stichwoerter\n",
    "\n",
    "\n",
    "def print_index(stichwoerter):\n",
    "    output = ''\n",
    "    unique_types = set([value for value in chain.from_iterable(stichwoerter.values())])\n",
    "    for e in unique_types:\n",
    "        output += f'{e}      :'\n",
    "        for i in stichwoerter.items():\n",
    "            if e in i[1]:\n",
    "                output += f'  {i[0]},'\n",
    "        output += '\\n'\n",
    "    print(output)\n",
    "\n",
    "print_index(read_data())"
   ]
  },
  {
   "cell_type": "markdown",
   "metadata": {},
   "source": [
    "\n"
   ]
  }
 ],
 "metadata": {
  "kernelspec": {
   "display_name": "Python 3",
   "language": "python",
   "name": "python3"
  },
  "language_info": {
   "codemirror_mode": {
    "name": "ipython",
    "version": 3
   },
   "file_extension": ".py",
   "mimetype": "text/x-python",
   "name": "python",
   "nbconvert_exporter": "python",
   "pygments_lexer": "ipython3",
   "version": "3.9.5"
  }
 },
 "nbformat": 4,
 "nbformat_minor": 1
}